{
 "cells": [
  {
   "cell_type": "markdown",
   "metadata": {
    "slideshow": {
     "slide_type": "-"
    }
   },
   "source": [
    "# MTH4000 Programming in Python I - Lab 1\n",
    "Dr Matthew Lewis and Prof. Thomas Prellberg"
   ]
  },
  {
   "cell_type": "markdown",
   "metadata": {},
   "source": [
    "# What is this about?\n",
    "\n",
    "\n",
    "The computer language chosen for this module is [Python](http://www.python.org), more specifically **Python 3**. You should aim to work with Python version 3.8 or higher (and definitely not Python 2). The book *A Beginner's Guide to Python 3 Programming* by John Hunt is available for free at the library as an [ebook](https://search.library.qmul.ac.uk/iii/encore/record/C__Rb1674165__SA%20Beginner%27s%20Guide%20to%20Python%203%20Programming__Orightresult__U__X7?lang=eng&suite=def).\n",
    "\n",
    "This document is a Jupyter Notebook. In Tuesday's lecture we learned what a Jupyter Notebook is.\n",
    "\n",
    "All lectures and labs are indeed written as [Jupyter](http://jupyter.org) notebooks. A Jupyter notebook contains *text boxes* in [markdown](http://daringfireball.net/projects/markdown/) and *programme code* in [Python](http://www.python.org).\n",
    "\n",
    "This Jupyter Notebook contains the assignment for this week's lab. This week's lab is indeed rather straightforward. Just read through the Jupyter Notebook, understand the instructions, and then fill up the boxes with the appropriate code. You have all week to work on this. You are welcome to ask the lab tutors questions regarding this material, or you can email us any queries that you have throughout the week.  A walkthrough video will be posted on the QM Plus page at the end of the week outlining some of the solutions.\n",
    "\n",
    "**The purpose of labs**\n",
    "\n",
    "While there will be **lectures** introducing you to **programming concepts**, there is not enough time in the lectures to cover everything. The exercises in the **labs** will have some element of **self-paced learning**: we will introduce some new material which needs to be worked through independently."
   ]
  },
  {
   "cell_type": "markdown",
   "metadata": {},
   "source": [
    "# How to start Python in Jupyter Notebook\n",
    "\n",
    "## Running Jupyter Notebook on Campus\n",
    "\n",
    "The computer labs provide an installation of Jupyter Notebook with Python 3.9. This is ready to use, and this tutorial will show you how to get started.\n",
    "\n",
    "1. Load the shortcut called *Python_3.9*\n",
    "(this can be found by searching for \"Python\" in the Start menu). A terminal window will open.\n",
    "\n",
    "2. Create a folder named MTH4000 in the G:\\ drive, e.g. by using the command “mkdir MTH4000“.\n",
    "\n",
    "3. Run the command “jupyter notebook” (be careful with the spelling!).\n",
    "\n",
    "The Jupyter interface will then open in a new tab on your default web browser.  \n",
    "\n",
    "Each subsequent time you wish to run Jupyter Notebook, simply follow steps 1 and 3 above."
   ]
  },
  {
   "cell_type": "markdown",
   "metadata": {},
   "source": [
    "<div>\n",
    "<img src=\"attachment:Anaconda%20Prompt.png\" width=\"700\"/>\n",
    "</div>"
   ]
  },
  {
   "attachments": {},
   "cell_type": "markdown",
   "metadata": {},
   "source": [
    "## Running Jupyter Notebook at Home\n",
    "\n",
    "A Queen Mary online software server is available at [appsanywhere.qmul.ac.uk](https://appsanywhere.qmul.ac.uk). You can access it via VMware Horizon (webinterface or downloaded client). One benefit is that your files will be stored online so that you can easily access these from the Campus computer labs. Once you have started AppsAnywhere, you can access it by clicking on the Python 3.9 tile and running the command \"jupyter notebook\" in the terminal window that will open up."
   ]
  },
  {
   "attachments": {
    "Screenshot%202023-09-24%20210420.png": {
     "image/png": "[encoded data removed]"
    }
   },
   "cell_type": "markdown",
   "metadata": {},
   "source": [
    "![Screenshot%202023-09-24%20210420.png](attachment:Screenshot%202023-09-24%20210420.png)"
   ]
  },
  {
   "cell_type": "markdown",
   "metadata": {},
   "source": [
    "# Installing Jupyter Notebook on your own computer\n",
    "\n",
    "**Anaconda** \n",
    "\n",
    "Jupyter Notebook runs on Windows, Linux, and MacOS. You might find it convenient to work on your own laptop, for example, and you are welcome to try to install *Anaconda* (http://www.anaconda.com/download/) on your own, and please make sure you use the latest Python 3 version available. \n",
    "\n",
    "Note that the School of Mathematical Sciences does not provide support for your own installation, so perhaps just attempt this if you are sufficiently computer literate. (I managed to install Anaconda without encountering any problems on three different Macs, but couldn't help with a Windows or Linux installation.)"
   ]
  },
  {
   "cell_type": "markdown",
   "metadata": {},
   "source": [
    "# Download and run this Jupyter Notebook from QMPLUS\n",
    "\n",
    "Open the [QM Plus module page](https://qmplus.qmul.ac.uk/course/view.php?id=23009), and find the Week 1 tab.  Follow the link to the lecture notes, and you will be directed to a list of downloadable files.  Find the file labelled **week1-notes.ipynb** (all Jupyter Notebook documents have the file extension \".ipynb\") and right-click on the link.   This will allow you to save the file to your notebook folder. (Simply clicking on the link will open the notebook in a separate tab, but you won't be able to do anything with it.)\n",
    "\n",
    "Now return to the Jupyter interface (which should be open in a tab in your web browser), and open the file you just saved."
   ]
  },
  {
   "cell_type": "markdown",
   "metadata": {},
   "source": [
    "# Variables"
   ]
  },
  {
   "cell_type": "markdown",
   "metadata": {},
   "source": [
    "We will begin with some simple computations.  The table below gives all the numerical operators that Python recognises:\n",
    "\n",
    "| Python Operator | Description  |\n",
    "| :---: | :---: |\n",
    "| `+` | addition |\n",
    "| `-` | subtraction |\n",
    "| `*` | multiplication |\n",
    "| `/` | division |\n",
    "|`//`| integer division|\n",
    "|`%`| remainder|\n",
    "| `**` | power |\n"
   ]
  },
  {
   "cell_type": "markdown",
   "metadata": {},
   "source": [
    "The code box below defines two values, `a` and `b`.  Use the above operations to evaluate the sum and product of these values.\n",
    "\n",
    "**Hint: You do *not* need to copy and paste these values.**"
   ]
  },
  {
   "cell_type": "code",
   "execution_count": 2,
   "metadata": {
    "ExecuteTime": {
     "end_time": "2023-01-22T16:46:42.596225Z",
     "start_time": "2023-01-22T16:46:42.574628Z"
    }
   },
   "outputs": [],
   "source": [
    "a=2352359335328472715687881873647\n",
    "b=9271835071156736434694508329323460232\n",
    "\n",
    "# Remember: if you want the interpreter to actually define these variables, you MUST run this box."
   ]
  },
  {
   "cell_type": "code",
   "execution_count": 3,
   "metadata": {
    "ExecuteTime": {
     "end_time": "2023-01-22T16:46:48.999468Z",
     "start_time": "2023-01-22T16:46:48.982087Z"
    }
   },
   "outputs": [
    {
     "name": "stdout",
     "output_type": "stream",
     "text": [
      "9271837423516071763167224017205333879\n"
     ]
    }
   ],
   "source": [
    "print(a+b)\n",
    "\n",
    "# Evaluate the sum here.\n",
    "\n"
   ]
  },
  {
   "cell_type": "code",
   "execution_count": 4,
   "metadata": {
    "ExecuteTime": {
     "end_time": "2023-01-22T16:46:49.702958Z",
     "start_time": "2023-01-22T16:46:49.687793Z"
    }
   },
   "outputs": [
    {
     "name": "stdout",
     "output_type": "stream",
     "text": [
      "21810687785261483045521243229856082684072865861236039416301453306104\n"
     ]
    }
   ],
   "source": [
    "print(a*b)\n",
    "\n",
    "# Evaluate the product here.\n",
    "\n"
   ]
  },
  {
   "cell_type": "markdown",
   "metadata": {},
   "source": [
    "The box below computes the values `b//a` (that is, the integer part of the ratio $b/a$) and `b%a` (the remainder after $b$ is divided by $a$), and assigns these values to the variables `q` and `r` respectively:"
   ]
  },
  {
   "cell_type": "code",
   "execution_count": 5,
   "metadata": {
    "ExecuteTime": {
     "end_time": "2023-01-22T16:46:50.813309Z",
     "start_time": "2023-01-22T16:46:50.810959Z"
    }
   },
   "outputs": [],
   "source": [
    "q=b//a\n",
    "r=b%a\n",
    "\n",
    "# Run this box!"
   ]
  },
  {
   "cell_type": "markdown",
   "metadata": {},
   "source": [
    "Verify that the value $aq+r$ is equal to $b$."
   ]
  },
  {
   "cell_type": "code",
   "execution_count": 6,
   "metadata": {},
   "outputs": [
    {
     "name": "stdout",
     "output_type": "stream",
     "text": [
      "aq+r = b\n"
     ]
    }
   ],
   "source": [
    "if (a*q)+r == b:\n",
    "    print(\"aq+r = b\")"
   ]
  },
  {
   "cell_type": "markdown",
   "metadata": {},
   "source": [
    "In the box below, define the variable `c` to be the value produced when $a$ is subtracted from $b$.  (If your code is correct, nothing should be returned from the code box)."
   ]
  },
  {
   "cell_type": "code",
   "execution_count": 7,
   "metadata": {},
   "outputs": [],
   "source": [
    "c = b-a"
   ]
  },
  {
   "cell_type": "markdown",
   "metadata": {},
   "source": [
    "Now check that the variable `c` has actually been defined by running the following code box:"
   ]
  },
  {
   "cell_type": "code",
   "execution_count": 8,
   "metadata": {
    "ExecuteTime": {
     "end_time": "2023-01-22T16:46:54.377137Z",
     "start_time": "2023-01-22T16:46:54.189119Z"
    }
   },
   "outputs": [
    {
     "data": {
      "text/plain": [
       "9271832718797401106221792641441586585"
      ]
     },
     "execution_count": 8,
     "metadata": {},
     "output_type": "execute_result"
    }
   ],
   "source": [
    "c\n",
    "\n",
    "# Run this box!"
   ]
  },
  {
   "cell_type": "markdown",
   "metadata": {},
   "source": [
    "Suppose we wanted to decrease the value of `c` by one, we could do this by redefining the value of `c`.  We can even use the current value of `c` in the new definition, for example, by writing the code `c=c-1`.\n",
    "\n",
    "Write and run this code in the box below (you should find that nothing is returned by the box).  Once this is done, rerun the code in the box directly above.  Does the value of `c` update to the new value that has been defined below?"
   ]
  },
  {
   "cell_type": "code",
   "execution_count": 9,
   "metadata": {},
   "outputs": [],
   "source": [
    "c-=1"
   ]
  },
  {
   "cell_type": "markdown",
   "metadata": {},
   "source": [
    "# Functions"
   ]
  },
  {
   "cell_type": "markdown",
   "metadata": {},
   "source": [
    "Below is an object `l` that seems to give an array of integer values.  It's clear that this is not a data-type that we have seen in lectures (*yet!*).  Use the built-in `type` function to determine the name of this data-type."
   ]
  },
  {
   "cell_type": "code",
   "execution_count": 10,
   "metadata": {
    "ExecuteTime": {
     "end_time": "2023-01-22T16:46:58.889327Z",
     "start_time": "2023-01-22T16:46:58.867650Z"
    }
   },
   "outputs": [],
   "source": [
    "l=[8271, 2734, 6282, 6448, 8309, 1477, 7768, 5896, 6010, 9657, 1247, 2497, 5363, 9625, 4641, 4057, 3381, 7063, 6497, 7698,\n",
    "   730, 8434, 2878, 7863, 3742, 7422, 4341, 9440, 925, 7564, 8444, 6487, 5741, 1975, 7871, 4507, 448, 6556, 4720, 8928,\n",
    "   8049, 8178, 417, 5664, 4612, 5217, 746, 2929, 9968, 8360, 8154, 6118, 1150, 6515, 8320, 9694, 5719, 3808, 920, 9312,\n",
    "   3223, 3096, 8216, 1430, 2282, 7120, 2035, 3749, 8450, 2675, 2522, 4524, 4409, 8655, 3879, 4607, 8229, 7717, 7877, 475,\n",
    "   5314, 2257, 4487, 9556, 1631, 9115, 4347, 2080, 12, 2248, 8610, 3786, 8233, 630, 4383, 6646, 7556, 4, 6595, 6446]\n",
    "\n"
   ]
  },
  {
   "cell_type": "markdown",
   "metadata": {},
   "source": [
    "Now use the built-in `max` function to determine the largest value contained in `l`."
   ]
  },
  {
   "cell_type": "code",
   "execution_count": 11,
   "metadata": {},
   "outputs": [
    {
     "data": {
      "text/plain": [
       "9968"
      ]
     },
     "execution_count": 11,
     "metadata": {},
     "output_type": "execute_result"
    }
   ],
   "source": [
    "max(l)"
   ]
  },
  {
   "cell_type": "markdown",
   "metadata": {},
   "source": [
    "The following box defines a text string, labelled `txt`.  Use the `print` function to display the text underneath the box.  \n",
    "What happens to the strange `\\n` characters?"
   ]
  },
  {
   "cell_type": "code",
   "execution_count": 12,
   "metadata": {
    "ExecuteTime": {
     "end_time": "2023-01-22T16:47:05.719144Z",
     "start_time": "2023-01-22T16:47:05.708573Z"
    }
   },
   "outputs": [
    {
     "name": "stdout",
     "output_type": "stream",
     "text": [
      "Intro to Computer Programming\n",
      "MTH5001\n",
      "Taught by Dr Matthew Lewis and Prof. Thomas Prellberg\n"
     ]
    }
   ],
   "source": [
    "txt='Intro to Computer Programming\\nMTH5001\\nTaught by Dr Matthew Lewis and Prof. Thomas Prellberg'\n",
    "\n",
    "print(txt)"
   ]
  },
  {
   "cell_type": "markdown",
   "metadata": {},
   "source": [
    "The value `x` has been defined below to be equal to `'7'`.  But note that since `'7'` has been written inside a pair of apostrophes, it is a string, not an integer.  Verify this by asking for the data-type of `x`."
   ]
  },
  {
   "cell_type": "code",
   "execution_count": 13,
   "metadata": {
    "ExecuteTime": {
     "end_time": "2023-01-22T16:47:07.716976Z",
     "start_time": "2023-01-22T16:47:07.707164Z"
    }
   },
   "outputs": [
    {
     "data": {
      "text/plain": [
       "str"
      ]
     },
     "execution_count": 13,
     "metadata": {},
     "output_type": "execute_result"
    }
   ],
   "source": [
    "x='7'\n",
    "\n",
    "type(x)"
   ]
  },
  {
   "cell_type": "markdown",
   "metadata": {},
   "source": [
    "Suppose we wish to obtain the integer value from this string, we can use the `int` function, like so:"
   ]
  },
  {
   "cell_type": "code",
   "execution_count": 14,
   "metadata": {
    "ExecuteTime": {
     "end_time": "2023-01-22T16:47:09.532236Z",
     "start_time": "2023-01-22T16:47:09.507075Z"
    }
   },
   "outputs": [
    {
     "data": {
      "text/plain": [
       "7"
      ]
     },
     "execution_count": 14,
     "metadata": {},
     "output_type": "execute_result"
    }
   ],
   "source": [
    "int(x)\n",
    "\n",
    "# Run this box!"
   ]
  },
  {
   "cell_type": "markdown",
   "metadata": {},
   "source": [
    "The box below defines `y` as another integer value that has been written as a string.  Find the value of $xy$.\n",
    "\n",
    "**Hint:  You can't use numerical operators on strings.  You must first convert the values to integers.**"
   ]
  },
  {
   "cell_type": "code",
   "execution_count": 15,
   "metadata": {
    "ExecuteTime": {
     "end_time": "2023-01-22T16:47:10.625757Z",
     "start_time": "2023-01-22T16:47:10.609133Z"
    }
   },
   "outputs": [
    {
     "data": {
      "text/plain": [
       "2507649627329823072149501"
      ]
     },
     "execution_count": 15,
     "metadata": {},
     "output_type": "execute_result"
    }
   ],
   "source": [
    "y='358235661047117581735643'\n",
    "\n",
    "int(y)*int(x)"
   ]
  },
  {
   "cell_type": "markdown",
   "metadata": {},
   "source": [
    "The `int` function can also be used to find the integer parts of floating point numbers.  Find the integer part of $2.7^{100}$."
   ]
  },
  {
   "cell_type": "code",
   "execution_count": 16,
   "metadata": {},
   "outputs": [
    {
     "data": {
      "text/plain": [
       "13689147905858927199628349179027181612826624"
      ]
     },
     "execution_count": 16,
     "metadata": {},
     "output_type": "execute_result"
    }
   ],
   "source": [
    "int(2.7**100)"
   ]
  },
  {
   "cell_type": "markdown",
   "metadata": {},
   "source": [
    "In the first section, the value `q` was defined by the operation `b//a`, which we claimed was the integer part of the ratio $b/a$.  Verify this by printing both the value `q` *and* `int(b/a)`.\n",
    "\n",
    "**Note that you are being asked to *print* these values, not call them. If you call two values in the same code box, only the final value is returned.**"
   ]
  },
  {
   "cell_type": "code",
   "execution_count": 17,
   "metadata": {},
   "outputs": [
    {
     "name": "stdout",
     "output_type": "stream",
     "text": [
      "3941504\n",
      "3941504\n"
     ]
    }
   ],
   "source": [
    "print(q)\n",
    "print(int(b/a))"
   ]
  },
  {
   "cell_type": "markdown",
   "metadata": {},
   "source": [
    "Note that `int` is both a data-type *and* a built-in function.  The function takes any object of a different data-type and attempts to convert it into the `int` data-type.  The other data-types also have similar built-in functions.  For example, try and convert the value `z` from a `float` into a `complex` number."
   ]
  },
  {
   "cell_type": "code",
   "execution_count": 18,
   "metadata": {
    "ExecuteTime": {
     "end_time": "2023-01-22T16:47:13.458770Z",
     "start_time": "2023-01-22T16:47:13.444267Z"
    }
   },
   "outputs": [
    {
     "data": {
      "text/plain": [
       "(17.23562461+0j)"
      ]
     },
     "execution_count": 18,
     "metadata": {},
     "output_type": "execute_result"
    }
   ],
   "source": [
    "z=17.23562461\n",
    "\n",
    "complex(z)"
   ]
  },
  {
   "cell_type": "markdown",
   "metadata": {},
   "source": [
    "# Keywords\n"
   ]
  },
  {
   "cell_type": "markdown",
   "metadata": {},
   "source": [
    "In the first section, we used Python as a calculator by noting some of the numerical operators that it recognises.  There were some notable absences however; the trigonometric functions, exponentials, logarithms, factorials, etc.\n",
    "\n",
    "There are ways of obtaining such operations in Python, but they are not included in the standard set of built-in functions.  Instead, we must import them from the `math` module.  In the box below, use the `import` keyword to import the `math` module."
   ]
  },
  {
   "cell_type": "code",
   "execution_count": 19,
   "metadata": {
    "ExecuteTime": {
     "end_time": "2023-01-22T16:47:45.570741Z",
     "start_time": "2023-01-22T16:47:45.557219Z"
    }
   },
   "outputs": [],
   "source": [
    "import math"
   ]
  },
  {
   "cell_type": "markdown",
   "metadata": {},
   "source": [
    "Let us now use this module to compute the factorial of $143$.  The factorial function is included in the `math` module under the name `factorial`.  Remember however, that in order to direct Python to the correct module, we *must* prepend the function name with `math.`."
   ]
  },
  {
   "cell_type": "code",
   "execution_count": 20,
   "metadata": {
    "ExecuteTime": {
     "end_time": "2023-01-22T16:47:16.028787Z",
     "start_time": "2023-01-22T16:47:16.013740Z"
    }
   },
   "outputs": [
    {
     "data": {
      "text/plain": [
       "38543707171800727705215657364933250819444321791546964384326881276202845420193798918144180166658987031965483631719296696351202501036957071818603525354815944336166154976340651887541505545310130488593669331551403376640000000000000000000000000000000000"
      ]
     },
     "execution_count": 20,
     "metadata": {},
     "output_type": "execute_result"
    }
   ],
   "source": [
    "# Use the math module to compute 143!\n",
    "\n",
    "math.factorial(143)"
   ]
  },
  {
   "cell_type": "markdown",
   "metadata": {},
   "source": [
    "Now suppose I wanted to use the [ceiling function](https://en.wikipedia.org/wiki/Floor_and_ceiling_functions) (that is, a function that gives the smallest integer larger than a given floating point number).  How could we determine whether or not such a function exists in the `math` module?  Even if we knew for certain it was in there, we'd need to know the name of the variable to which it was assigned in order to use it.\n",
    "\n",
    "The obvious answer is to [search online](https://docs.python.org/3/library/math.html).  (This is the correct answer.)\n",
    "\n",
    "We could however, use the built-in `dir` function, which returns a list of all variables (remember, each function is assigned to a variable, so they're included too).  Run the box below and try to spot a variable that sounds like it may contain the ceiling function."
   ]
  },
  {
   "cell_type": "code",
   "execution_count": 21,
   "metadata": {
    "ExecuteTime": {
     "end_time": "2023-01-22T16:47:48.432387Z",
     "start_time": "2023-01-22T16:47:48.416213Z"
    }
   },
   "outputs": [
    {
     "data": {
      "text/plain": [
       "['__doc__',\n",
       " '__loader__',\n",
       " '__name__',\n",
       " '__package__',\n",
       " '__spec__',\n",
       " 'acos',\n",
       " 'acosh',\n",
       " 'asin',\n",
       " 'asinh',\n",
       " 'atan',\n",
       " 'atan2',\n",
       " 'atanh',\n",
       " 'cbrt',\n",
       " 'ceil',\n",
       " 'comb',\n",
       " 'copysign',\n",
       " 'cos',\n",
       " 'cosh',\n",
       " 'degrees',\n",
       " 'dist',\n",
       " 'e',\n",
       " 'erf',\n",
       " 'erfc',\n",
       " 'exp',\n",
       " 'exp2',\n",
       " 'expm1',\n",
       " 'fabs',\n",
       " 'factorial',\n",
       " 'floor',\n",
       " 'fmod',\n",
       " 'frexp',\n",
       " 'fsum',\n",
       " 'gamma',\n",
       " 'gcd',\n",
       " 'hypot',\n",
       " 'inf',\n",
       " 'isclose',\n",
       " 'isfinite',\n",
       " 'isinf',\n",
       " 'isnan',\n",
       " 'isqrt',\n",
       " 'lcm',\n",
       " 'ldexp',\n",
       " 'lgamma',\n",
       " 'log',\n",
       " 'log10',\n",
       " 'log1p',\n",
       " 'log2',\n",
       " 'modf',\n",
       " 'nan',\n",
       " 'nextafter',\n",
       " 'perm',\n",
       " 'pi',\n",
       " 'pow',\n",
       " 'prod',\n",
       " 'radians',\n",
       " 'remainder',\n",
       " 'sin',\n",
       " 'sinh',\n",
       " 'sqrt',\n",
       " 'tan',\n",
       " 'tanh',\n",
       " 'tau',\n",
       " 'trunc',\n",
       " 'ulp']"
      ]
     },
     "execution_count": 21,
     "metadata": {},
     "output_type": "execute_result"
    }
   ],
   "source": [
    "dir(math)\n",
    "\n",
    "# Run this box!"
   ]
  },
  {
   "cell_type": "markdown",
   "metadata": {},
   "source": [
    "Once you have spotted a plausible candidate, use it to compute the ceiling of the value $1.01^{1000}$."
   ]
  },
  {
   "cell_type": "code",
   "execution_count": 22,
   "metadata": {
    "ExecuteTime": {
     "end_time": "2023-01-22T16:47:18.545311Z",
     "start_time": "2023-01-22T16:47:18.534112Z"
    }
   },
   "outputs": [
    {
     "data": {
      "text/plain": [
       "20960"
      ]
     },
     "execution_count": 22,
     "metadata": {},
     "output_type": "execute_result"
    }
   ],
   "source": [
    "# Don't forget to include the math. prefix.\n",
    "\n",
    "math.ceil(1.01**1000)\n"
   ]
  },
  {
   "cell_type": "markdown",
   "metadata": {},
   "source": [
    "`import` is just one of many new keywords we'll see throughout the course, but we'll go through a couple of new ones today.  The word `in` is a Python keyword, and is used to determine whether or not a value is contained in a list.\n",
    "\n",
    "The list `l` was defined in the previous section, run the following box to determine whether or not the value $4409$ is contained in it."
   ]
  },
  {
   "cell_type": "code",
   "execution_count": 23,
   "metadata": {},
   "outputs": [
    {
     "data": {
      "text/plain": [
       "True"
      ]
     },
     "execution_count": 23,
     "metadata": {},
     "output_type": "execute_result"
    }
   ],
   "source": [
    "4409 in l\n",
    "\n",
    "# Run this box!"
   ]
  },
  {
   "cell_type": "markdown",
   "metadata": {},
   "source": [
    "The word `True` is returned to us, meaning that $4409$ is indeed in `l`.  `True` is also a Python keyword (as is `False`), but we'll explore those in much more detail in Week 5.  \n",
    "\n",
    "By applying the `in` keyword to the list `dir(math)`, determine whether or not there is a function called `gcd` in the `math` module.\n",
    "\n",
    "**Hint: Notice that all entries in `dir(math)` are given as strings, so make sure to include the apostrophes.**"
   ]
  },
  {
   "cell_type": "code",
   "execution_count": 24,
   "metadata": {},
   "outputs": [
    {
     "data": {
      "text/plain": [
       "True"
      ]
     },
     "execution_count": 24,
     "metadata": {},
     "output_type": "execute_result"
    }
   ],
   "source": [
    "'gcd' in dir(math)"
   ]
  },
  {
   "cell_type": "markdown",
   "metadata": {},
   "source": [
    "# Plotting Examples"
   ]
  },
  {
   "cell_type": "markdown",
   "metadata": {
    "scrolled": true
   },
   "source": [
    "We now discuss some useful applications of Python, namely plotting graphs and figures.  To do this, we will use some of the techniques discussed in the previous section; assigning variables, importing functions from different modules, etc.  The modules in question are *NumPy* (which contains functions built for numerical algorithms and large matrices) and *MatPlotLib* (which creates figures and plots).\n",
    "\n",
    "The code below may look dense and intimidating, but don't worry!  There's no expectation that you will be able to read this code fluently at this stage.  The main idea is to get you used to playing about with code (feel free to change some parameters or add some new lines) and for you to be able to spot the role variables, functions and keywords play in Python code.  If however, you feel adventurous, you can read the [MatPlotLib Tutorial](http://matplotlib.org/tutorials/introductory/usage.html#sphx-glr-tutorials-introductory-usage-py) for more advanced methods in modifying plots."
   ]
  },
  {
   "cell_type": "markdown",
   "metadata": {},
   "source": [
    "First, we `import` the relevant modules.  Notice that we can change how we label the imported module with the keyword `as`."
   ]
  },
  {
   "cell_type": "code",
   "execution_count": 25,
   "metadata": {},
   "outputs": [],
   "source": [
    "import matplotlib.pyplot as plt\n",
    "import numpy as np"
   ]
  },
  {
   "cell_type": "markdown",
   "metadata": {},
   "source": [
    "The following code produces a simple plot of a linear, quadratic, and cubic monomial. Play with it by changing the x range, the functions plotted, or the label names."
   ]
  },
  {
   "cell_type": "code",
   "execution_count": 26,
   "metadata": {
    "scrolled": true
   },
   "outputs": [
    {
     "data": {
      "image/png": "[encoded data removed]",
      "text/plain": [
       "<Figure size 640x480 with 1 Axes>"
      ]
     },
     "metadata": {},
     "output_type": "display_data"
    }
   ],
   "source": [
    "x = np.linspace(-2, 2, 100) ## this defines the range of x\n",
    "plt.plot(x, x, label='linear') ## this adds the function x to the plot\n",
    "plt.plot(x, x**2, label='quadratic') ## this adds the function x^2 to the plot\n",
    "plt.plot(x, x**3, label='cubic') ## this adds the function x^3 to the plot\n",
    "plt.xlabel('x') ## this specifies the label of the x-axis\n",
    "plt.ylabel('y') ## this specifies the label of the y-axis\n",
    "plt.title(\"Simple Plot\") ## this gives the plot a title\n",
    "plt.legend() ## this specifies a legend (a small key illustrating which label matches each graph)\n",
    "plt.show()"
   ]
  },
  {
   "cell_type": "markdown",
   "metadata": {},
   "source": [
    "Note that since we imported the module NumPy under the name `np`, the code `np.linspace(-2,2,100)` is asking for the function *linspace* that comes from the module *np* to be evaluated with arguments $-2$, $2$ and $100$."
   ]
  },
  {
   "cell_type": "markdown",
   "metadata": {},
   "source": [
    "Suppose you don't like the boundary box, we can modify the plot to make the axes pass through the origin. The boundary box lines are called \"spines\" in Python, and the code reflects this. As you can see, this looks slightly more advanced, and you would not be expected to come up with this just by reading the Python help pages!"
   ]
  },
  {
   "cell_type": "code",
   "execution_count": 27,
   "metadata": {},
   "outputs": [
    {
     "data": {
      "image/png": "[encoded data removed]",
      "text/plain": [
       "<Figure size 640x480 with 1 Axes>"
      ]
     },
     "metadata": {},
     "output_type": "display_data"
    }
   ],
   "source": [
    "# get current axes:\n",
    "ax = plt.gca()\n",
    "# make the top and right spine invisible:\n",
    "ax.spines['top'].set_color('none')\n",
    "ax.spines['right'].set_color('none')\n",
    "# moving bottom spine y=0 position:\n",
    "ax.spines['bottom'].set_position(('data',0))\n",
    "# move left spine to x=0 position:\n",
    "ax.spines['left'].set_position(('data',0))\n",
    "# repeat the plotting commands from the previous box:\n",
    "x = np.linspace(-2, 2, 100)\n",
    "plt.plot(x, x, label='linear')\n",
    "plt.plot(x, x**2, label='quadratic')\n",
    "plt.plot(x, x**3, label='cubic')\n",
    "plt.title(\"Simple Plot\")\n",
    "plt.legend()\n",
    "plt.show()"
   ]
  },
  {
   "cell_type": "markdown",
   "metadata": {},
   "source": [
    "Note how the function `plt.plot` has many arguments returned to it.  The final argument \"label\" is optional, and there are many more optional arguments that can be added in. For instance, we can modify the colour of each plot, the line style, the marker size, etc."
   ]
  },
  {
   "cell_type": "code",
   "execution_count": 28,
   "metadata": {},
   "outputs": [
    {
     "data": {
      "image/png": "[encoded data removed]",
      "text/plain": [
       "<Figure size 640x480 with 1 Axes>"
      ]
     },
     "metadata": {},
     "output_type": "display_data"
    }
   ],
   "source": [
    "x = np.linspace(-2,2,41)\n",
    "y = np.exp(-x**2) * np.cos(2*np.pi*x)\n",
    "plt.plot(x,y,alpha=0.4,label='Decaying Cosine',\n",
    "         color='red',linestyle='dashed',linewidth=2,\n",
    "         marker='o',markersize=5,markerfacecolor='blue',\n",
    "         markeredgecolor='blue')\n",
    "plt.ylim([-2,2])\n",
    "plt.legend()\n",
    "plt.show()"
   ]
  },
  {
   "cell_type": "markdown",
   "metadata": {},
   "source": [
    "### Now it's your turn. Three specific tasks you should attempt:"
   ]
  },
  {
   "cell_type": "markdown",
   "metadata": {},
   "source": [
    "1. Plot $y=x^3-x^2+1$ such that both extrema and the point of inflection are clearly visible.\n",
    "2. Plot $y=\\tan(x)$ for $x$ from $-2\\pi$ to $2\\pi$. Pick sufficiently many points to make the plot look smooth and use some sensible cutoff value for the range of $y$.\n",
    "3. Plot a circle about the origin with radius one (hint: https://alevelmaths.co.uk/pure-maths/geometry/equation-of-a-circle/)\n",
    "4. Can you modify your plot from Q3. to make the circle actually look like a circle?  **(Hint: Search online for techniques.)**"
   ]
  },
  {
   "cell_type": "code",
   "execution_count": 29,
   "metadata": {},
   "outputs": [
    {
     "name": "stderr",
     "output_type": "stream",
     "text": [
      "No artists with labels found to put in legend.  Note that artists whose label start with an underscore are ignored when legend() is called with no argument.\n"
     ]
    },
    {
     "data": {
      "image/png": "[encoded data removed]",
      "text/plain": [
       "<Figure size 640x480 with 1 Axes>"
      ]
     },
     "metadata": {},
     "output_type": "display_data"
    }
   ],
   "source": [
    "x = np.linspace(-3,3,50)\n",
    "y = x**3-x**2+1\n",
    "\n",
    "ax = plt.gca()\n",
    "ax.spines['top'].set_color('none')\n",
    "ax.spines['right'].set_color('none')\n",
    "ax.spines['bottom'].set_position(('data',0))\n",
    "ax.spines['left'].set_position(('data',0))\n",
    "\n",
    "plt.plot(x,y)\n",
    "plt.title('Task 1')\n",
    "plt.legend()\n",
    "plt.show()"
   ]
  },
  {
   "cell_type": "code",
   "execution_count": 30,
   "metadata": {},
   "outputs": [
    {
     "name": "stderr",
     "output_type": "stream",
     "text": [
      "No artists with labels found to put in legend.  Note that artists whose label start with an underscore are ignored when legend() is called with no argument.\n"
     ]
    },
    {
     "data": {
      "image/png": "[encoded data removed]",
      "text/plain": [
       "<Figure size 640x480 with 1 Axes>"
      ]
     },
     "metadata": {},
     "output_type": "display_data"
    }
   ],
   "source": [
    "x = np.linspace(-2*np.pi,2*np.pi,100)\n",
    "y = np.tan(x)\n",
    "\n",
    "# Set the bounds to be -2*pi aand 2*pi\n",
    "\n",
    "ax = plt.gca()\n",
    "ax.spines['top'].set_color('none')\n",
    "ax.spines['right'].set_color('none')\n",
    "ax.spines['bottom'].set_position(('data',0))\n",
    "ax.spines['left'].set_position(('data',0))\n",
    "\n",
    "plt.ylim([-4,4])\n",
    "# Add Y limits to help display the asymptotes\n",
    "# For me [-4,4] seemed to work best as I had points just over 4 that stopped the asymptotes from being displayed\n",
    "plt.plot(x,y)\n",
    "plt.title('Task 2')\n",
    "plt.legend()\n",
    "plt.show()"
   ]
  },
  {
   "cell_type": "code",
   "execution_count": 3,
   "metadata": {},
   "outputs": [
    {
     "name": "stderr",
     "output_type": "stream",
     "text": [
      "No artists with labels found to put in legend.  Note that artists whose label start with an underscore are ignored when legend() is called with no argument.\n"
     ]
    },
    {
     "data": {
      "image/png": "[encoded data removed]",
      "text/plain": [
       "<Figure size 640x480 with 1 Axes>"
      ]
     },
     "metadata": {},
     "output_type": "display_data"
    }
   ],
   "source": [
    "import numpy as np\n",
    "from matplotlib import pyplot as plt\n",
    "\n",
    "x = np.linspace(-1,1,1000)\n",
    "# Increased the the quantity of numbers generated to get a smoother curve\n",
    "y = np.sqrt(1-x**2)\n",
    "\n",
    "ax = plt.gca()\n",
    "ax.spines['top'].set_color('none')\n",
    "ax.spines['right'].set_color('none')\n",
    "ax.spines['bottom'].set_position(('data',0))\n",
    "ax.spines['left'].set_position(('data',0))\n",
    "\n",
    "ax.set_aspect('equal')\n",
    "# Setting the aspect ratio to equal prevents it from looking like an elipse\n",
    "plt.plot(x,y,color='blue')\n",
    "plt.plot(x,-y,color='blue')\n",
    "plt.title('Tasks 3 & 4')\n",
    "plt.legend()\n",
    "plt.show()"
   ]
  },
  {
   "cell_type": "markdown",
   "metadata": {},
   "source": [
    "# Feedback"
   ]
  },
  {
   "cell_type": "markdown",
   "metadata": {},
   "source": [
    "The great thing about Jupyter Notebook is that you get instant feedback on your work.  If the result is the one you expected, then your code is probably correct!  If your code results in an error however, then Python tells you what type of error you've made, and a quick online search should help rectify your mistake.\n",
    "\n",
    "Attempt all of these questions during Week 1. This worksheet will be discussed in detail on a Lab Walkthrough video to be posted to QM Plus at the end of the week.\n",
    "\n",
    "If you have any problems or questions, or simply you would like some feedback, then you can:\n",
    "\n",
    "i)  Ask the tutors present in your IT Lab sessions.\n",
    "\n",
    "ii)  Ask the Student Forum on the module's QM Plus page.\n",
    "\n",
    "iii) Email the lecturers for assistance."
   ]
  }
 ],
 "metadata": {
  "kernelspec": {
   "display_name": "Python 3 (ipykernel)",
   "language": "python",
   "name": "python3"
  },
  "language_info": {
   "codemirror_mode": {
    "name": "ipython",
    "version": 3
   },
   "file_extension": ".py",
   "mimetype": "text/x-python",
   "name": "python",
   "nbconvert_exporter": "python",
   "pygments_lexer": "ipython3",
   "version": "3.11.3"
  }
 },
 "nbformat": 4,
 "nbformat_minor": 2
}
