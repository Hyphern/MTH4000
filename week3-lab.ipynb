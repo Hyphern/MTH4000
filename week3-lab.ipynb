{
 "cells": [
  {
   "cell_type": "markdown",
   "metadata": {
    "slideshow": {
     "slide_type": "-"
    }
   },
   "source": [
    "# MTH4000 Programming in Python I - Lab 3\n",
    "Dr Matthew Lewis and Prof. Thomas Prellberg"
   ]
  },
  {
   "cell_type": "markdown",
   "metadata": {
    "scrolled": true
   },
   "source": [
    "## Exercises"
   ]
  },
  {
   "cell_type": "markdown",
   "metadata": {},
   "source": [
    "Note that ***Reading and Understanding the Instructions*** is part of doing your work. This is always true, but especially in this coursework there are places where you will invariably get lost if you don't follow this strategy."
   ]
  },
  {
   "cell_type": "markdown",
   "metadata": {},
   "source": [
    "### Exercise 1: Nested lists"
   ]
  },
  {
   "cell_type": "markdown",
   "metadata": {},
   "source": [
    "If we remove the `sum()` in the code of Exercise 2 in last week's lab workbook, we don't compute the sum of list entries, and the output is a list whose entries are themselves lists. "
   ]
  },
  {
   "cell_type": "code",
   "execution_count": 1,
   "metadata": {
    "ExecuteTime": {
     "end_time": "2023-10-07T07:50:16.666082Z",
     "start_time": "2023-10-07T07:50:16.645764Z"
    }
   },
   "outputs": [
    {
     "name": "stdout",
     "output_type": "stream",
     "text": [
      "[0, 1, 8, 27, 64]\n",
      "[[], [1], [1, 7], [1, 7, 19], [1, 7, 19, 37]]\n"
     ]
    }
   ],
   "source": [
    "print([sum([3*k*(k+1)+1 for k in range(n)]) for n in range(5)])\n",
    "print([    [3*k*(k+1)+1 for k in range(n)]  for n in range(5)])"
   ]
  },
  {
   "cell_type": "markdown",
   "metadata": {},
   "source": [
    "**Make sure you really understand the above code** (for example, why in the second print statement the first list entry is given by `[]`). \n",
    "\n",
    "It might help to pull the code apart a bit more. The code `[3*k*(k+1)+1 for k in range(n)]` gets computed five times, for values of $n$ from $0$ to 4:"
   ]
  },
  {
   "cell_type": "code",
   "execution_count": 2,
   "metadata": {
    "ExecuteTime": {
     "end_time": "2023-10-07T07:50:17.544177Z",
     "start_time": "2023-10-07T07:50:17.531851Z"
    },
    "scrolled": true
   },
   "outputs": [
    {
     "name": "stdout",
     "output_type": "stream",
     "text": [
      "[]\n",
      "[1]\n",
      "[1, 7]\n",
      "[1, 7, 19]\n",
      "[1, 7, 19, 37]\n"
     ]
    }
   ],
   "source": [
    "print([3*k*(k+1)+1 for k in range(0)])\n",
    "print([3*k*(k+1)+1 for k in range(1)])\n",
    "print([3*k*(k+1)+1 for k in range(2)])\n",
    "print([3*k*(k+1)+1 for k in range(3)])\n",
    "print([3*k*(k+1)+1 for k in range(4)])"
   ]
  },
  {
   "cell_type": "markdown",
   "metadata": {},
   "source": [
    "The five results of these computations then get put into a list, producing the output given above.\n",
    "\n",
    "Once you you understand what is going on here, you can test your understanding by trying to create the following three lists of lists using list comprehension:"
   ]
  },
  {
   "cell_type": "markdown",
   "metadata": {},
   "source": [
    "1. $$[\\,[0, 0],\\, [1, 1],\\, [2, 4],\\, [3, 9],\\, [4, 16],\\, [5, 25],\\, [6, 36],\\, [7, 49]\\,]\\:,$$ \n",
    "\n",
    "\n",
    "2. $$[\\,[0],\\, [0, 1],\\, [0,1,2],\\, [0,1,2,3],\\, [0,1,2,3,4]\\,]\\:,$$\n",
    "\n",
    "\n",
    "3. $$[\\,[1],\\, [1, 2],\\, [1,2,3],\\, [1,2,3,4],\\, [1,2,3,4,5],\\, [1,2,3,4,5,6]\\,]\\:.$$"
   ]
  },
  {
   "cell_type": "markdown",
   "metadata": {},
   "source": [
    "**Hint:** if you don't immediately see the patterns, try first using pen and paper to write down some ideas and test them."
   ]
  },
  {
   "cell_type": "code",
   "execution_count": 13,
   "metadata": {
    "ExecuteTime": {
     "end_time": "2023-10-04T13:42:39.107568Z",
     "start_time": "2023-10-04T13:42:39.093359Z"
    },
    "scrolled": false
   },
   "outputs": [
    {
     "name": "stdout",
     "output_type": "stream",
     "text": [
      "[[0, 0], [1, 1], [2, 4], [3, 9], [4, 16], [5, 25], [6, 36]]\n",
      "[[0], [0, 1], [0, 1, 2], [0, 1, 2, 3], [0, 1, 2, 3, 4]]\n",
      "[[1], [1, 2], [1, 2, 3], [1, 2, 3, 4], [1, 2, 3, 4, 5], [1, 2, 3, 4, 5, 6]]\n"
     ]
    }
   ],
   "source": [
    "print([[n,n**2] for n in range(7)])\n",
    "print([[k for k in range(n)]  for n in range(1,6)])\n",
    "print([[k+1 for k in range(n)]  for n in range(1,7)])"
   ]
  },
  {
   "cell_type": "markdown",
   "metadata": {},
   "source": [
    "### Exercise 2: the Ruler Function"
   ]
  },
  {
   "cell_type": "markdown",
   "metadata": {},
   "source": [
    "We would like you look at the [Ruler Function](https://en.wikipedia.org/wiki/Ruler_function), which counts the number of times a positive integer $n$ can be evenly divided by two. A cool way of determining this is to consider the binary representation of integers and getting the number of trailing zeros, using the built-in `bin()` function. Binary numbers are shown as strings of zeros and ones with a leading \"0b\", so for example the binary representation of $20=16+4=2^4+2^2$ is given by `0b10100`."
   ]
  },
  {
   "cell_type": "code",
   "execution_count": 14,
   "metadata": {
    "ExecuteTime": {
     "end_time": "2023-10-07T07:50:23.805961Z",
     "start_time": "2023-10-07T07:50:23.791106Z"
    },
    "scrolled": true
   },
   "outputs": [
    {
     "data": {
      "text/plain": [
       "'0b10100'"
      ]
     },
     "execution_count": 14,
     "metadata": {},
     "output_type": "execute_result"
    }
   ],
   "source": [
    "bin(20)"
   ]
  },
  {
   "cell_type": "markdown",
   "metadata": {},
   "source": [
    "We see that there are two trailing zeros, corresponding to the fact that $20=5\\times 2^2$.\n",
    "\n",
    "We can strip the trailing zeros with the `.rstrip()` method."
   ]
  },
  {
   "cell_type": "code",
   "execution_count": 15,
   "metadata": {
    "ExecuteTime": {
     "end_time": "2023-10-07T07:50:25.051166Z",
     "start_time": "2023-10-07T07:50:25.041897Z"
    }
   },
   "outputs": [
    {
     "data": {
      "text/plain": [
       "'0b101'"
      ]
     },
     "execution_count": 15,
     "metadata": {},
     "output_type": "execute_result"
    }
   ],
   "source": [
    "bin(20).rstrip(\"0\")"
   ]
  },
  {
   "cell_type": "markdown",
   "metadata": {},
   "source": [
    "This shortens the string to `0b101` and we can compute the difference in length, using the `len()` function."
   ]
  },
  {
   "cell_type": "code",
   "execution_count": 16,
   "metadata": {
    "ExecuteTime": {
     "end_time": "2023-10-07T07:50:29.133559Z",
     "start_time": "2023-10-07T07:50:29.122430Z"
    }
   },
   "outputs": [
    {
     "data": {
      "text/plain": [
       "2"
      ]
     },
     "execution_count": 16,
     "metadata": {},
     "output_type": "execute_result"
    }
   ],
   "source": [
    "len(bin(20))-len(bin(20).rstrip(\"0\"))"
   ]
  },
  {
   "cell_type": "markdown",
   "metadata": {},
   "source": [
    "In other words, the number of times a positive integer `n` can be evenly divided by two can be computed using\n",
    "```python\n",
    "    len(bin(n))-len(bin(n).rstrip(\"0\"))\n",
    "```"
   ]
  },
  {
   "cell_type": "markdown",
   "metadata": {},
   "source": [
    "Produce two plots of the graph of the ruler function for integers $n$ from $0$ to $2^8-1$ and from $0$ to $2^{16}-1$, respectively."
   ]
  },
  {
   "cell_type": "code",
   "execution_count": 32,
   "metadata": {
    "ExecuteTime": {
     "end_time": "2023-10-04T13:42:44.976167Z",
     "start_time": "2023-10-04T13:42:39.209604Z"
    },
    "scrolled": false
   },
   "outputs": [
    {
     "data": {
      "image/png": "[encoded data removed]",
      "text/plain": [
       "<Figure size 640x480 with 2 Axes>"
      ]
     },
     "metadata": {},
     "output_type": "display_data"
    }
   ],
   "source": [
    "import numpy as np\n",
    "import matplotlib.pyplot as plt\n",
    "\n",
    "\n",
    "x = np.arange(0, 2**8) \n",
    "\n",
    "y1 = [len(bin(i)) - len(bin(i).rstrip(\"0\")) for i in x]\n",
    "\n",
    "\n",
    "plt.subplot(2, 1, 1)  \n",
    "plt.plot(x, y1)\n",
    "plt.xlabel('Value')\n",
    "plt.ylabel('Number of Trailing Zeros in Binary')\n",
    "plt.title('Plot 1')\n",
    "plt.grid(True)\n",
    "\n",
    "x2 = np.arange(0, 2**16) \n",
    "y2 = [len(bin(i)) - len(bin(i).rstrip(\"0\")) for i in x2]\n",
    "\n",
    "plt.subplot(2, 1, 2)\n",
    "plt.plot(x2, y2)\n",
    "plt.xlabel('Value')\n",
    "plt.ylabel('Number of Trailing Zeros in Binary')\n",
    "plt.title('Plot 2')\n",
    "plt.grid(True)\n",
    "\n",
    "plt.tight_layout()\n",
    "\n",
    "plt.show()\n"
   ]
  },
  {
   "cell_type": "markdown",
   "metadata": {},
   "source": [
    "### Exercise 3:  Thomae's Function"
   ]
  },
  {
   "cell_type": "markdown",
   "metadata": {},
   "source": [
    "Similar to our discussion of Euler's totient function $\\varphi(n)$, we would like you to look at [Thomae's function](https://en.wikipedia.org/wiki/Thomae%27s_function), which is defined by:\n",
    "\n",
    "$$f(x)=\\begin{cases}\n",
    "  \\frac{1}{q} &\\text{if }x = \\tfrac{p}{q}\\quad (x \\text{ is rational), with } p \\in \\mathbb Z \\text{ and } q \\in \\mathbb N \\text{ coprime}\\\\\n",
    "  0           &\\text{if }x \\text{ is irrational.}\n",
    "\\end{cases}$$\n",
    "\n",
    "Thomae's function is difficult to graph, as it is discontinuous at infinitely many points (specifically, at **all** rational numbers).  We can however, plot a good approximation of the graph of this function on the domain $(0,1)$ using the following algorithm:\n",
    "\n",
    "1.  Fix some value $m\\in\\mathbb{N}$.  Our graph will consist of values $\\{\\frac{i}{m}\\,:\\, i\\in\\{1,\\ldots,m-1\\}\\}$ along the x-axis.\n",
    "\n",
    "\n",
    "2.  For each value $i\\in \\{1,\\ldots,m-1\\}$, compute the greatest common divisor of $i$ and $m$, then divide this value by $m$.  These will be our y-axis values.\n",
    "\n",
    "\n",
    "3.  Plot the resulting figure produced from these x-values and y-values.\n",
    "\n",
    "Implement this algorithm in the code box below.  For best results, choose a large value of $m$ that has many different prime factors."
   ]
  },
  {
   "cell_type": "code",
   "execution_count": 1,
   "metadata": {
    "ExecuteTime": {
     "end_time": "2023-10-04T13:42:48.070552Z",
     "start_time": "2023-10-04T13:42:44.982463Z"
    }
   },
   "outputs": [
    {
     "name": "stdout",
     "output_type": "stream",
     "text": [
      "510510\n"
     ]
    },
    {
     "data": {
      "image/png": "[encoded data removed]",
      "text/plain": [
       "<Figure size 640x480 with 1 Axes>"
      ]
     },
     "metadata": {},
     "output_type": "display_data"
    }
   ],
   "source": [
    "import matplotlib.pyplot as plt\n",
    "import numpy as np\n",
    "import math\n",
    "\n",
    "m = 2*3*5*7*11*13*17\n",
    "print(m)\n",
    "\n",
    "i = np.linspace(1,m)\n",
    "x = i/m\n",
    "\n",
    "y = []\n",
    "\n",
    "for k in range(len(i)):\n",
    "    y.append(math.gcd(int(i[k]),m))\n",
    "    \n",
    "plt.plot(x,y)\n",
    "plt.grid('true')\n",
    "plt.show()"
   ]
  },
  {
   "cell_type": "markdown",
   "metadata": {},
   "source": [
    "You should find that your graph is dependent on your choice of $m$.  What happens if you choose a value of $m$ that is prime?  Can you see why this happens?"
   ]
  },
  {
   "cell_type": "markdown",
   "metadata": {},
   "source": [
    "### Exercise 4: More on the Riemann Zeta Function"
   ]
  },
  {
   "cell_type": "markdown",
   "metadata": {},
   "source": [
    "This is a continuation of last week's exercise, to do more numerical computations using our improved knowledge of Python. Recall the Riemann Zeta function \n",
    "\n",
    "$$\\zeta(s)=\\sum_{n=1}^\\infty\\frac1{n^s}\\;.$$"
   ]
  },
  {
   "cell_type": "markdown",
   "metadata": {},
   "source": [
    "Last week you computed a few partial sums. Using list comprehension, we can simplify the code quite considerably, and easily include hundreds of terms or more."
   ]
  },
  {
   "cell_type": "markdown",
   "metadata": {},
   "source": [
    "#### Exercise 4.a: Compute the $100$th, $400$th, $1600$th partial sums for $s=2,4,6$.Compare against the exactly known values. How many digits agreement do you find with the $1600$th partial sums?"
   ]
  },
  {
   "cell_type": "code",
   "execution_count": 2,
   "metadata": {
    "ExecuteTime": {
     "end_time": "2023-10-04T13:42:49.050421Z",
     "start_time": "2023-10-04T13:42:48.082181Z"
    },
    "scrolled": false
   },
   "outputs": [
    {
     "name": "stdout",
     "output_type": "stream",
     "text": [
      "1.6449340668482264 1.6348839001848923 \n",
      "\n",
      "1.082323233711138 1.0823228953444728 \n",
      "\n",
      "1.017343061984449 1.0173430619639436 \n",
      "\n",
      "\n",
      "1.6449340668482264 1.6424309392440628 \n",
      "\n",
      "1.082323233711138 1.0823232284832403 \n",
      "\n",
      "1.017343061984449 1.0173430619844284 \n",
      "\n",
      "\n",
      "1.6449340668482264 1.6443088714950378 \n",
      "\n",
      "1.082323233711138 1.0823232336296822 \n",
      "\n",
      "1.017343061984449 1.017343061984441 \n",
      "\n"
     ]
    }
   ],
   "source": [
    "import math\n",
    "\n",
    "values = [2,4,6]\n",
    "\n",
    "actual_values = [(math.pi**2)/6,(math.pi**4)/90,(math.pi**6)/945]\n",
    "\n",
    "for i in range(3):\n",
    "    print(actual_values[i],sum([1/(k**values[i]) for k in range(1,100)]),\"\\n\")\n",
    "    \n",
    "print(\"\")\n",
    "\n",
    "for i in range(3):\n",
    "    print(actual_values[i],sum([1/(k**values[i]) for k in range(1,400)]),\"\\n\")\n",
    "    \n",
    "print(\"\")\n",
    "\n",
    "for i in range(3):\n",
    "    print(actual_values[i],sum([1/(k**values[i]) for k in range(1,1600)]),\"\\n\")"
   ]
  },
  {
   "cell_type": "markdown",
   "metadata": {},
   "source": [
    "#### Advanced:"
   ]
  },
  {
   "cell_type": "markdown",
   "metadata": {},
   "source": [
    "$\\zeta(s)$ also can be expressed as an infinite product over all primes,\n",
    "\n",
    "$$\\zeta(s)=\\prod_p\\left(\\frac1{1-p^{-s}}\\right)\\;,$$\n",
    "\n",
    "where the product is over the primes $p=2,3,5,7,11,13,\\ldots$. "
   ]
  },
  {
   "cell_type": "markdown",
   "metadata": {},
   "source": [
    "For the product formula we need an easy way of accessing the $n$-th prime. Fortunately, there already exists a prime function in a Python module (you can find stuff like this with Google) which we can access using `from sympy import prime`."
   ]
  },
  {
   "cell_type": "markdown",
   "metadata": {},
   "source": [
    "#### Exercise 4.b: Using the `prime` function, print a list of the first $20$ prime numbers, and print the $1000$th prime number."
   ]
  },
  {
   "cell_type": "code",
   "execution_count": 4,
   "metadata": {
    "ExecuteTime": {
     "end_time": "2023-10-04T13:42:54.320615Z",
     "start_time": "2023-10-04T13:42:49.068032Z"
    }
   },
   "outputs": [
    {
     "name": "stdout",
     "output_type": "stream",
     "text": [
      "[2, 3, 5, 7, 11, 13, 17, 19, 23, 29, 31, 37, 41, 43, 47, 53, 59, 61, 67, 71]\n",
      "7919\n"
     ]
    }
   ],
   "source": [
    "from sympy import prime\n",
    "\n",
    "print([prime(k) for k in range(1,21)])\n",
    "\n",
    "print(prime(1000))"
   ]
  },
  {
   "cell_type": "markdown",
   "metadata": {},
   "source": [
    "Computing primes is a bit slow, so we pre-compute 1600 primes to use for the next part of the exercise.\n",
    "\n",
    "Patience, this takes about a minute or so."
   ]
  },
  {
   "cell_type": "code",
   "execution_count": 5,
   "metadata": {
    "ExecuteTime": {
     "end_time": "2023-10-04T13:43:52.521759Z",
     "start_time": "2023-10-04T13:42:54.327645Z"
    }
   },
   "outputs": [],
   "source": [
    "list_of_primes = [prime(k) for k in range(1,1601)]"
   ]
  },
  {
   "cell_type": "markdown",
   "metadata": {},
   "source": [
    "Note that the n-th prime can now be accessed by `primes[n-1]`"
   ]
  },
  {
   "cell_type": "markdown",
   "metadata": {},
   "source": [
    "#### Exercise 4.c: Compute the $100$th, $400$th and $1600$th partial products for $s=2,4,6$, and compare against the known values. How many digits agreement do you find with the $1600$th partial products?\n",
    "\n",
    "You will notice that your code takes considerably more time to execute, due to the need to repeatedly use multiplication, division, powers, and calling `prime`. "
   ]
  },
  {
   "cell_type": "markdown",
   "metadata": {},
   "source": [
    "Similarly to evaluating the sum of a set of values in a list, we can find the product by using the function `numpy.prod`, instead of the built-in `sum` function."
   ]
  },
  {
   "cell_type": "code",
   "execution_count": 6,
   "metadata": {
    "ExecuteTime": {
     "end_time": "2023-10-04T13:43:52.641338Z",
     "start_time": "2023-10-04T13:43:52.527779Z"
    }
   },
   "outputs": [
    {
     "name": "stdout",
     "output_type": "stream",
     "text": [
      "1.6449340668482264 \n",
      "\n",
      "1.6449224348549059 \n",
      "\n",
      "1.082323233711138 \n",
      "\n",
      "1.0823232337111923 \n",
      "\n",
      "1.017343061984449 \n",
      "\n",
      "1.0173430619844526 \n",
      "\n"
     ]
    }
   ],
   "source": [
    "values =[2,4,6]\n",
    "actual_values = [(math.pi**2)/6,(math.pi**4)/90,(math.pi**6)/945]\n",
    "\n",
    "\n",
    "for i in range(len(values)):\n",
    "    listed =[]\n",
    "    print(actual_values[i],\"\\n\")\n",
    "    for j in range(len(list_of_primes)):\n",
    "        listed.append(1/(1-(list_of_primes[j]**-values[i])))\n",
    "    print(np.prod(listed),\"\\n\")"
   ]
  },
  {
   "cell_type": "markdown",
   "metadata": {},
   "source": [
    "## Submit your Jupyter Notebook to QMPLUS"
   ]
  },
  {
   "cell_type": "markdown",
   "metadata": {},
   "source": [
    "Once you are done, save the jupyter notebook and submit it to QMPLUS under Lab Report Week 3."
   ]
  }
 ],
 "metadata": {
  "kernelspec": {
   "display_name": "Python 3 (ipykernel)",
   "language": "python",
   "name": "python3"
  },
  "language_info": {
   "codemirror_mode": {
    "name": "ipython",
    "version": 3
   },
   "file_extension": ".py",
   "mimetype": "text/x-python",
   "name": "python",
   "nbconvert_exporter": "python",
   "pygments_lexer": "ipython3",
   "version": "3.11.3"
  }
 },
 "nbformat": 4,
 "nbformat_minor": 2
}
