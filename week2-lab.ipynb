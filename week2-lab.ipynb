{
 "cells": [
  {
   "cell_type": "markdown",
   "metadata": {
    "slideshow": {
     "slide_type": "-"
    }
   },
   "source": [
    "# MTH4000 Programming in Python I - Lab 2\n",
    "Dr Matthew Lewis and Prof. Thomas Prellberg"
   ]
  },
  {
   "cell_type": "markdown",
   "metadata": {
    "scrolled": true
   },
   "source": [
    "## Exercises\n",
    "\n",
    "### Exercise 1: Modules\n",
    "\n",
    "#### Q1. a) Importing a Module"
   ]
  },
  {
   "cell_type": "markdown",
   "metadata": {},
   "source": [
    "We begin by discussing modules.  So far, every module we have encountered has come pre-installed for us.  This needn't be the case.  Anyone can write a module, and new modules can be created in minutes.\n",
    "\n",
    "On the course's QM Plus page there is a link to download a module called `week2lab`.  It should be clear from the name of this module that it is not part of the Python Standard Library, and has instead been written as a short exercise for this lab session.\n",
    "\n",
    "Download the `week2lab` module, and upload it to your Jupyter Notebook home page.  **Please make sure it is in the same folder as this Jupyter Notebook.**\n",
    "\n",
    "Once this is done, import the module in the box below.  You should find that you receive instructions on how to proceed."
   ]
  },
  {
   "cell_type": "code",
   "execution_count": 3,
   "metadata": {
    "ExecuteTime": {
     "end_time": "2023-09-27T16:13:20.330349Z",
     "start_time": "2023-09-27T16:13:20.312946Z"
    },
    "scrolled": true
   },
   "outputs": [
    {
     "name": "stdout",
     "output_type": "stream",
     "text": [
      "This module contains a function that encrypts/decrypts text strings using a famous cipher.\n",
      "Use the dir() function to list all functions defined in the week2lab module, and determine the name of this cipher function.\n",
      "Once you have found the function, run it on the following encrypted message:\n",
      "\n",
      "Tnq tamjb-mh nqjf() pahsbmgh suh tq acqr bg dqbdmqzq acqpaj mhpgdiubmgh utgab u igrajq.  Rah mb gh bnq yqqk2jut igrajq.\n"
     ]
    }
   ],
   "source": [
    "# Import the week2lab module here!\n",
    "\n",
    "import week2lab"
   ]
  },
  {
   "cell_type": "code",
   "execution_count": 4,
   "metadata": {
    "ExecuteTime": {
     "end_time": "2023-09-27T16:13:20.820898Z",
     "start_time": "2023-09-27T16:13:20.813202Z"
    }
   },
   "outputs": [
    {
     "data": {
      "text/plain": [
       "['__builtins__',\n",
       " '__cached__',\n",
       " '__doc__',\n",
       " '__file__',\n",
       " '__loader__',\n",
       " '__name__',\n",
       " '__package__',\n",
       " '__spec__',\n",
       " 'caesar']"
      ]
     },
     "execution_count": 4,
     "metadata": {},
     "output_type": "execute_result"
    }
   ],
   "source": [
    "# Use this codebox to follow the instructions and move onto the next step.\n",
    "\n",
    "dir(week2lab)"
   ]
  },
  {
   "cell_type": "code",
   "execution_count": 5,
   "metadata": {
    "ExecuteTime": {
     "end_time": "2023-09-27T16:13:21.572164Z",
     "start_time": "2023-09-27T16:13:21.565507Z"
    }
   },
   "outputs": [
    {
     "data": {
      "text/plain": [
       "'The built-in help() function can be used to retrieve useful information about a module.  Run it on the week2lab module.'"
      ]
     },
     "execution_count": 5,
     "metadata": {},
     "output_type": "execute_result"
    }
   ],
   "source": [
    "# If you've found a plausible function, use it here.\n",
    "\n",
    "week2lab.caesar('Tnq tamjb-mh nqjf() pahsbmgh suh tq acqr bg dqbdmqzq acqpaj mhpgdiubmgh utgab u igrajq.  Rah mb gh bnq yqqk2jut igrajq.')"
   ]
  },
  {
   "cell_type": "code",
   "execution_count": 6,
   "metadata": {
    "ExecuteTime": {
     "end_time": "2023-09-27T16:13:22.064834Z",
     "start_time": "2023-09-27T16:13:22.057978Z"
    }
   },
   "outputs": [
    {
     "name": "stdout",
     "output_type": "stream",
     "text": [
      "Help on module week2lab:\n",
      "\n",
      "NAME\n",
      "    week2lab - Very nice!  Although you could also have just cheated by simply opening the week2lab.py file in your web browser and reading this message there!  The bottom of that file contains a hidden comment, copy and paste it into this Jupyter Notebook and use the caesar function to decode it.\n",
      "\n",
      "FUNCTIONS\n",
      "    caesar(txt)\n",
      "\n",
      "FILE\n",
      "    c:\\users\\thoma\\documents\\python\\uni\\programming in python i\\week2lab.py\n",
      "\n",
      "\n"
     ]
    }
   ],
   "source": [
    "# If you chose the correct function, you should now know what to do next.\n",
    "\n",
    "help(week2lab)"
   ]
  },
  {
   "cell_type": "code",
   "execution_count": 7,
   "metadata": {
    "ExecuteTime": {
     "end_time": "2023-09-27T16:13:22.589228Z",
     "start_time": "2023-09-27T16:13:22.584685Z"
    }
   },
   "outputs": [
    {
     "name": "stdout",
     "output_type": "stream",
     "text": [
      "Excellent work!  You are now ready to move on to Exercise 2, in which you will construct your own module.\n",
      "\n",
      "(By the way, the dir() and help() functions can also be used on functions and data types, as well as modules.)\n"
     ]
    }
   ],
   "source": [
    "# Almost there!\n",
    "\n",
    "print(week2lab.caesar('Exsqjjqhb ygdk!  Yga udq hgy dqurw bg igzq gh bg Exqdsmcq 2, mh ynmsn wga ymjj sghcbdasb wgad gyh igrajq.\\n\\n(Bw bnq yuw, bnq rmd() uhr nqjf() pahsbmghc suh ujcg tq acqr gh pahsbmghc uhr rubu bwfqc, uc yqjj uc igrajqc.)'))"
   ]
  },
  {
   "cell_type": "markdown",
   "metadata": {},
   "source": [
    "#### Q1.b)  Building a Module"
   ]
  },
  {
   "cell_type": "markdown",
   "metadata": {},
   "source": [
    "For this exercise, we will need the following imports:"
   ]
  },
  {
   "cell_type": "code",
   "execution_count": 38,
   "metadata": {
    "ExecuteTime": {
     "end_time": "2023-09-27T16:13:24.877462Z",
     "start_time": "2023-09-27T16:13:24.101747Z"
    }
   },
   "outputs": [],
   "source": [
    "import numpy as np\n",
    "import matplotlib.pyplot as plt\n",
    "\n",
    "# Run this box!"
   ]
  },
  {
   "cell_type": "markdown",
   "metadata": {},
   "source": [
    "The box below uses the `input` function.  You may remember from lectures that the `input` function allows the user to submit text strings to a prompt *while the code is being run*.  This enables us to write code that gives the end user the opportunity to submit information to a programme without them being allowed to edit the source code.\n",
    "\n",
    "This code however, is immediately accessible to you, so feel free to play around with it.  Run the box below and see what it does."
   ]
  },
  {
   "cell_type": "code",
   "execution_count": 39,
   "metadata": {
    "ExecuteTime": {
     "end_time": "2023-09-27T16:13:30.605653Z",
     "start_time": "2023-09-27T16:13:25.399459Z"
    }
   },
   "outputs": [
    {
     "data": {
      "image/png": "[encoded data removed]",
      "text/plain": [
       "<Figure size 640x480 with 1 Axes>"
      ]
     },
     "metadata": {},
     "output_type": "display_data"
    }
   ],
   "source": [
    "smile=int(input('How would you describe your mood on a scale of 1-10?\\n'))\n",
    "x=np.linspace(0,2*np.pi,1000)\n",
    "y=np.linspace(-0.5,0.5,1000)\n",
    "plt.plot(np.cos(x),np.sin(x),color='blue') # head\n",
    "plt.plot(y,(smile-5)*0.4*(y**2)-0.45,linewidth=2,color='blue') # mouth\n",
    "plt.plot([-0.4,0.4],[0.45,0.45],'o',markersize=8,color='blue') #eyes\n",
    "plt.axis('equal')\n",
    "plt.show()"
   ]
  },
  {
   "cell_type": "markdown",
   "metadata": {},
   "source": [
    "The code prompts you to give it a value that describes your mood on a scale of 1-10, and then plots a face that reflects your current state of mind (specifically, the value you submit is used to compute the gradient of the parabola that represents the smile).\n",
    "\n",
    "In the box below, copy-and-paste the above code, and edit it to make the following changes:\n",
    "\n",
    "1. Change the face's eye colour from blue to green.\n",
    "\n",
    "2. The code currently only allows us to submit integer values.  Edit it so that it also accepts floats.\n",
    "\n",
    "3. Create a second prompt that also asks for the user to describe their mood in a single word, and then use that word as a title for the plot."
   ]
  },
  {
   "cell_type": "code",
   "execution_count": 40,
   "metadata": {
    "ExecuteTime": {
     "end_time": "2023-09-27T16:13:39.081363Z",
     "start_time": "2023-09-27T16:13:32.353802Z"
    }
   },
   "outputs": [
    {
     "data": {
      "image/png": "[encoded data removed]",
      "text/plain": [
       "<Figure size 640x480 with 1 Axes>"
      ]
     },
     "metadata": {},
     "output_type": "display_data"
    }
   ],
   "source": [
    "smile=float(input('How would you describe your mood on a scale of 1-10?\\n'))\n",
    "mood = input(\"What is your moood?\\n\")\n",
    "x=np.linspace(0,2*np.pi,1000)\n",
    "y=np.linspace(-0.5,0.5,1000)\n",
    "plt.plot(np.cos(x),np.sin(x),color='blue') # head\n",
    "plt.plot(y,(smile-5)*0.4*(y**2)-0.45,linewidth=2,color='blue') # mouth\n",
    "plt.plot([-0.4,0.4],[0.45,0.45],'o',markersize=8,color='green') #eyes\n",
    "plt.axis('equal')\n",
    "plt.title(mood)\n",
    "plt.show()"
   ]
  },
  {
   "cell_type": "markdown",
   "metadata": {},
   "source": [
    "Now that you have successfully tested your code, you can build it into a module so that it can be run by *any* Jupyter Notebook document in the same directory.\n",
    "\n",
    "Return to the main interface of the Jupyter Notebook application (you should have it open in a separate browser tab).  **Make sure you are in the same folder as this current workbook.**  Click on the \"New\" button in the top-right corner, and select \"Text File\"."
   ]
  },
  {
   "cell_type": "markdown",
   "metadata": {},
   "source": [
    "<div>\n",
    "<img src=\"attachment:Text%20File%20Creation.png\" align=\"center\" width=\"350\"/>\n",
    "</div>"
   ]
  },
  {
   "cell_type": "markdown",
   "metadata": {},
   "source": [
    "This should open up a blank text file named `untitled.txt`.  The name of the document is listed at the top of the page, click on this name and change it to `mood.py`."
   ]
  },
  {
   "cell_type": "markdown",
   "metadata": {},
   "source": [
    "<div>\n",
    "<img src=\"attachment:Text%20File%20Rename.png\" align=\"center\" width=\"350\"/>\n",
    "</div>"
   ]
  },
  {
   "cell_type": "markdown",
   "metadata": {},
   "source": [
    "You have now created a (blank) Python module!\n",
    "\n",
    "As we used the `numpy` and `matplotlib` modules above, we must begin this new module by importing them again, so that whenever this module is run, the code has access to the necessary functions."
   ]
  },
  {
   "cell_type": "markdown",
   "metadata": {},
   "source": [
    "<div>\n",
    "<img src=\"attachment:Python%20Module%20Imports.png\" align=\"center\" width=\"350\"/>\n",
    "</div>"
   ]
  },
  {
   "cell_type": "markdown",
   "metadata": {},
   "source": [
    "Your module is nearly ready.  Copy-and-paste your code above into this text file, and save it by selecting \"File\" and \"Save\".  If your module creation was successful, then the code box below should run without error."
   ]
  },
  {
   "cell_type": "code",
   "execution_count": 1,
   "metadata": {
    "ExecuteTime": {
     "end_time": "2023-09-27T16:13:48.330624Z",
     "start_time": "2023-09-27T16:13:48.314068Z"
    }
   },
   "outputs": [
    {
     "data": {
      "image/png": "[encoded data removed]",
      "text/plain": [
       "<Figure size 640x480 with 1 Axes>"
      ]
     },
     "metadata": {},
     "output_type": "display_data"
    }
   ],
   "source": [
    "import dood\n",
    "\n",
    "dood.smile()"
   ]
  },
  {
   "cell_type": "markdown",
   "metadata": {},
   "source": [
    "### Exercise 2: Lists"
   ]
  },
  {
   "cell_type": "markdown",
   "metadata": {},
   "source": [
    "Earlier this week, we were introduced to the sequence data types; `list`, `tuple` and `range`.  The `range` function allows us to construct objects that return values in an arithmetic progression.  If we want to produce a list of the first 7 odd numbers for example, we could use such an object."
   ]
  },
  {
   "cell_type": "code",
   "execution_count": 2,
   "metadata": {
    "ExecuteTime": {
     "end_time": "2023-09-27T16:13:52.674675Z",
     "start_time": "2023-09-27T16:13:52.666397Z"
    }
   },
   "outputs": [
    {
     "data": {
      "text/plain": [
       "[1, 3, 5, 7, 9, 11, 13]"
      ]
     },
     "execution_count": 2,
     "metadata": {},
     "output_type": "execute_result"
    }
   ],
   "source": [
    "L=list(range(1,15,2))\n",
    "\n",
    "L"
   ]
  },
  {
   "cell_type": "markdown",
   "metadata": {},
   "source": [
    "Note that our stop-value of $15$ is excluded from being returned as a value in this range, but our start-value of $1$ is included.\n",
    "\n",
    "This computation works, but it does rely on us knowing which value to take as a stopping point in order to generate exactly 7 entries.  We could instead use a list comprehension.  If we take `n` to be a local dummy variable, then such a list comprehension could be written as:"
   ]
  },
  {
   "cell_type": "code",
   "execution_count": 3,
   "metadata": {
    "ExecuteTime": {
     "end_time": "2023-09-27T16:13:54.085156Z",
     "start_time": "2023-09-27T16:13:54.077889Z"
    }
   },
   "outputs": [
    {
     "data": {
      "text/plain": [
       "[1, 3, 5, 7, 9, 11, 13]"
      ]
     },
     "execution_count": 3,
     "metadata": {},
     "output_type": "execute_result"
    }
   ],
   "source": [
    "[2*n+1 for n in range(7)]"
   ]
  },
  {
   "cell_type": "markdown",
   "metadata": {},
   "source": [
    "The `range` object here returned values of $n$ from $0$ to $6$.  After these values were given to the expression $2n+1$, we were left with a list of the first 7 odd numbers.\n",
    "\n",
    "There are several built-in functions that can prove useful when dealing with sequence data types, such as `len`, `sum`, `max` and `min`."
   ]
  },
  {
   "cell_type": "code",
   "execution_count": 4,
   "metadata": {
    "ExecuteTime": {
     "end_time": "2023-09-27T16:13:55.364519Z",
     "start_time": "2023-09-27T16:13:55.358814Z"
    }
   },
   "outputs": [
    {
     "name": "stdout",
     "output_type": "stream",
     "text": [
      "7\n",
      "49\n",
      "13\n",
      "1\n"
     ]
    }
   ],
   "source": [
    "print(len(L)) # len computes the length of the list L, which we know to be 10\n",
    "print(sum(L)) # Perhaps unsurprisingly, the sum function computes the sum of the values in L\n",
    "print(max(L)) # The max function returns the largest value in the sequence\n",
    "print(min(L)) # Similarly, the min function returns the smallest"
   ]
  },
  {
   "cell_type": "markdown",
   "metadata": {},
   "source": [
    "Note that the sum of the values in `L` is $49$, which is equal to $7^2$.  We can print out a few more examples to see if this pattern continues to hold:"
   ]
  },
  {
   "cell_type": "code",
   "execution_count": 5,
   "metadata": {
    "ExecuteTime": {
     "end_time": "2023-09-27T16:13:56.384026Z",
     "start_time": "2023-09-27T16:13:56.378632Z"
    }
   },
   "outputs": [
    {
     "name": "stdout",
     "output_type": "stream",
     "text": [
      "64\n",
      "81\n",
      "100\n",
      "121\n",
      "144\n"
     ]
    }
   ],
   "source": [
    "print(sum([2*n+1 for n in range(8)]))\n",
    "print(sum([2*n+1 for n in range(9)]))\n",
    "print(sum([2*n+1 for n in range(10)]))\n",
    "print(sum([2*n+1 for n in range(11)]))\n",
    "print(sum([2*n+1 for n in range(12)]))"
   ]
  },
  {
   "cell_type": "markdown",
   "metadata": {},
   "source": [
    "By incrementally increasing the stopping point in the range, we have generated a new sequence of values.  If we use another list comprehension, we can in fact generate these values inside another list."
   ]
  },
  {
   "cell_type": "code",
   "execution_count": 6,
   "metadata": {
    "ExecuteTime": {
     "end_time": "2023-09-27T16:13:57.214239Z",
     "start_time": "2023-09-27T16:13:57.206870Z"
    }
   },
   "outputs": [
    {
     "data": {
      "text/plain": [
       "[0, 1, 4, 9, 16, 25, 36, 49, 64, 81, 100, 121, 144]"
      ]
     },
     "execution_count": 6,
     "metadata": {},
     "output_type": "execute_result"
    }
   ],
   "source": [
    "[sum([2*n+1 for n in range(k)]) for k in range(13)]"
   ]
  },
  {
   "cell_type": "markdown",
   "metadata": {},
   "source": [
    "Take some time to think about what has happened in this last line.  The value $k$ varies from $0$ to $12$, and for each of these values, the sum of the first $k$ odd numbers is computed and added to the list.  \n",
    "\n",
    "We can use `print` statements to verify whether these sums are equal to $k^2$ for each value of $k$."
   ]
  },
  {
   "cell_type": "code",
   "execution_count": 7,
   "metadata": {
    "ExecuteTime": {
     "end_time": "2023-09-27T16:13:58.107445Z",
     "start_time": "2023-09-27T16:13:58.099678Z"
    }
   },
   "outputs": [
    {
     "name": "stdout",
     "output_type": "stream",
     "text": [
      "[0, 1, 4, 9, 16, 25, 36, 49, 64, 81, 100, 121, 144]\n",
      "[0, 1, 4, 9, 16, 25, 36, 49, 64, 81, 100, 121, 144]\n"
     ]
    }
   ],
   "source": [
    "print([sum([2*n+1 for n in range(k)]) for k in range(13)])\n",
    "print([k**2 for k in range(13)])"
   ]
  },
  {
   "cell_type": "markdown",
   "metadata": {},
   "source": [
    "It seems the pattern holds.\n",
    "\n",
    "Now it's your turn.  Using list comprehension, generate a list of the values $3n(n+1)+1$ for integers $n$ between $0$ and $20$."
   ]
  },
  {
   "cell_type": "code",
   "execution_count": 8,
   "metadata": {
    "ExecuteTime": {
     "end_time": "2023-09-27T16:13:58.617166Z",
     "start_time": "2023-09-27T16:13:58.613169Z"
    }
   },
   "outputs": [
    {
     "data": {
      "text/plain": [
       "[1,\n",
       " 7,\n",
       " 19,\n",
       " 37,\n",
       " 61,\n",
       " 91,\n",
       " 127,\n",
       " 169,\n",
       " 217,\n",
       " 271,\n",
       " 331,\n",
       " 397,\n",
       " 469,\n",
       " 547,\n",
       " 631,\n",
       " 721,\n",
       " 817,\n",
       " 919,\n",
       " 1027,\n",
       " 1141]"
      ]
     },
     "execution_count": 8,
     "metadata": {},
     "output_type": "execute_result"
    }
   ],
   "source": [
    "[3*n*(n+1)+1 for n in range(0,20)]"
   ]
  },
  {
   "cell_type": "markdown",
   "metadata": {},
   "source": [
    "Furthermore, use another list comprehension to generate a list of the sums of the first $k$ values in the above list, for $k$ between $1$ and $20$."
   ]
  },
  {
   "cell_type": "code",
   "execution_count": 9,
   "metadata": {
    "ExecuteTime": {
     "end_time": "2023-09-27T16:13:58.951092Z",
     "start_time": "2023-09-27T16:13:58.946451Z"
    }
   },
   "outputs": [
    {
     "data": {
      "text/plain": [
       "[1,\n",
       " 8,\n",
       " 27,\n",
       " 64,\n",
       " 125,\n",
       " 216,\n",
       " 343,\n",
       " 512,\n",
       " 729,\n",
       " 1000,\n",
       " 1331,\n",
       " 1728,\n",
       " 2197,\n",
       " 2744,\n",
       " 3375,\n",
       " 4096,\n",
       " 4913,\n",
       " 5832,\n",
       " 6859]"
      ]
     },
     "execution_count": 9,
     "metadata": {},
     "output_type": "execute_result"
    }
   ],
   "source": [
    "[sum([3*n*(n+1)+1 for n in range(k)]) for k in range(1,20)]"
   ]
  },
  {
   "cell_type": "markdown",
   "metadata": {},
   "source": [
    "You should be able to spot a potential explicit formula $f(k)$ for these sums.  Determine the formula $f(k)$, and verify it by using a list comprehension to compute values $f(k)$ for $k$ between $1$ and $20$ in the box below."
   ]
  },
  {
   "cell_type": "code",
   "execution_count": 10,
   "metadata": {
    "ExecuteTime": {
     "end_time": "2023-09-27T16:13:59.289557Z",
     "start_time": "2023-09-27T16:13:59.285161Z"
    }
   },
   "outputs": [
    {
     "data": {
      "text/plain": [
       "[1,\n",
       " 8,\n",
       " 27,\n",
       " 64,\n",
       " 125,\n",
       " 216,\n",
       " 343,\n",
       " 512,\n",
       " 729,\n",
       " 1000,\n",
       " 1331,\n",
       " 1728,\n",
       " 2197,\n",
       " 2744,\n",
       " 3375,\n",
       " 4096,\n",
       " 4913,\n",
       " 5832,\n",
       " 6859]"
      ]
     },
     "execution_count": 10,
     "metadata": {},
     "output_type": "execute_result"
    }
   ],
   "source": [
    "[n**3 for n in range (1,20)]"
   ]
  },
  {
   "cell_type": "markdown",
   "metadata": {},
   "source": [
    "### Exercise 3: Computing Numerical Approximations to Numbers and Functions"
   ]
  },
  {
   "cell_type": "markdown",
   "metadata": {},
   "source": [
    "In what follows we will use Python to numerically compute approximations given by finite truncations of infinite series or product expansions, or infinite continued fractions. As an example, we will numerically evaluate the [geometric series](https://en.wikipedia.org/wiki/Geometric_series) over $N$ subsequent powers of $x$, i.e.\n",
    "$$S_N(x)=1+x+x^2+x^3+\\ldots+x^{N-1}\\;,$$\n",
    "or in short-hand notation $S_N(x)=\\sum\\limits_{k=0}^{N-1} x^k$. Recall that this sums up to\n",
    "$$S_N(x)=\\frac{1-x^N}{1-x}\\;.$$"
   ]
  },
  {
   "cell_type": "markdown",
   "metadata": {},
   "source": [
    "If we evaluate this sum for infinitely many terms, we find that for $|x|<1$ the term $x^N$ tends to zero as $N$ becomes large, and hence\n",
    "$$\\sum_{k=0}^\\infty x^k=1+x+x^2+x^3+\\ldots=\\frac{1}{1-x}\\;.$$"
   ]
  },
  {
   "cell_type": "markdown",
   "metadata": {},
   "source": [
    "We now verify the formula for $S_N(x)$ numerically  for $N=5$ and $7$, and $x=1/2$."
   ]
  },
  {
   "cell_type": "code",
   "execution_count": 11,
   "metadata": {
    "ExecuteTime": {
     "end_time": "2023-09-27T16:14:02.370608Z",
     "start_time": "2023-09-27T16:14:02.364534Z"
    }
   },
   "outputs": [
    {
     "name": "stdout",
     "output_type": "stream",
     "text": [
      "N=5,x=1/2:\n",
      "1.9375 1.9375\n",
      "N=7,x=1/2:\n",
      "1.984375 1.984375\n"
     ]
    }
   ],
   "source": [
    "print(\"N=5,x=1/2:\")\n",
    "print(1+1/2+(1/2)**2+(1/2)**3+(1/2)**4, (1-(1/2)**5)/(1-(1/2)))\n",
    "print(\"N=7,x=1/2:\")\n",
    "print(1+1/2+(1/2)**2+(1/2)**3+(1/2)**4+(1/2)**5+(1/2)**6, (1-(1/2)**7)/(1-(1/2)))"
   ]
  },
  {
   "cell_type": "markdown",
   "metadata": {},
   "source": [
    "Using our knowledge of graphical plotting routines from the last exercise sheet, we can also visualise this for general values of $x$ and check how close the graphs are to $1/(1-x)$."
   ]
  },
  {
   "cell_type": "code",
   "execution_count": 13,
   "metadata": {
    "ExecuteTime": {
     "end_time": "2023-09-27T16:41:52.453480Z",
     "start_time": "2023-09-27T16:41:52.248491Z"
    },
    "scrolled": false
   },
   "outputs": [
    {
     "data": {
      "image/png": "[encoded data removed]",
      "text/plain": [
       "<Figure size 640x480 with 1 Axes>"
      ]
     },
     "metadata": {},
     "output_type": "display_data"
    }
   ],
   "source": [
    "import numpy as np\n",
    "from matplotlib import pyplot as plt\n",
    "\n",
    "x = np.linspace(-1.1, 1.1, 1000)\n",
    "plt.plot(x,1+x+x**2+x**3+x**4,label='N=5')\n",
    "plt.plot(x,1+x+x**2+x**3+x**4+x**5,label='N=6')\n",
    "plt.plot(x,1+x+x**2+x**3+x**4+x**5+x**6,label='N=7')\n",
    "plt.plot(x,1+x+x**2+x**3+x**4+x**5+x**6+x**7+x**8+x**9+x**10+x**11+x**12,label='N=13')\n",
    "plt.plot(x,1/(1-x),color='black',label='1/(1-x)')\n",
    "plt.ylim([0,10])\n",
    "plt.xlabel('x')\n",
    "plt.ylabel('y')\n",
    "plt.title('approximations to 1/(1-x)')\n",
    "plt.legend()\n",
    "plt.show()"
   ]
  },
  {
   "cell_type": "markdown",
   "metadata": {},
   "source": [
    "As you can see the agreement is fairly good for $|x|$ small but becomes bad if $x$ approaches $1$ or $-1$."
   ]
  },
  {
   "cell_type": "markdown",
   "metadata": {},
   "source": [
    "#### Q3a) Computing approximations to $\\exp(x)$"
   ]
  },
  {
   "cell_type": "markdown",
   "metadata": {},
   "source": [
    "You will learn (or maybe you know already) that the exponential function $\\exp(x)$ is given by the series "
   ]
  },
  {
   "cell_type": "markdown",
   "metadata": {},
   "source": [
    "$$\\exp(x)=\\sum_{k=0}^\\infty\\frac{x^k}{k!}=1+\\frac{x}{1!}+\\frac{x^2}{2!}+\\frac{x^3}{3!}+\\frac{x^4}{4!}+\\ldots\\;.$$"
   ]
  },
  {
   "cell_type": "markdown",
   "metadata": {},
   "source": [
    "Compute the finite sums over the first $6$, $7$, and $8$ terms, evaluated at $x=1.5$, and compare the result with $\\exp(1.5)$.\n",
    "\n",
    "Remember that you can use the `print` function to print several results within the same code box. \n",
    "\n",
    "You should see a sequence of numbers tending towards the value of $\\exp(1.5)$. If this wasn't the case, you should recognise that you likely made a mistake and need to check your code."
   ]
  },
  {
   "cell_type": "code",
   "execution_count": 37,
   "metadata": {
    "ExecuteTime": {
     "end_time": "2023-09-27T16:20:05.453945Z",
     "start_time": "2023-09-27T16:20:05.415098Z"
    }
   },
   "outputs": [
    {
     "name": "stdout",
     "output_type": "stream",
     "text": [
      "4.46171875\n",
      "4.4775390625\n",
      "4.480929129464286\n",
      "4.4816890703380645\n"
     ]
    }
   ],
   "source": [
    "import math\n",
    "\n",
    "print(sum([((1.5)**k)/math.factorial(k) for k in range(6)]))\n",
    "print(sum([((1.5)**k)/math.factorial(k) for k in range(7)]))\n",
    "print(sum([((1.5)**k)/math.factorial(k) for k in range(8)]))\n",
    "print(math.exp(1.5))"
   ]
  },
  {
   "cell_type": "markdown",
   "metadata": {},
   "source": [
    "For small values of $k$, you can compute $k!$ in your head and enter the result directly into Python. However, Python also provides `math.factorial()` to do it for you (in numpy you will find it under `numpy.math.factorial()`). If you need to use `math.factorial()` several times in a formula, the expression becomes quite complicated. So it is helpful to use `fac` instead of writing the full `math.factorial`. Do this, and compute $10!$ and $20!$ using `fac(10)` and `fac(20)`."
   ]
  },
  {
   "cell_type": "code",
   "execution_count": 21,
   "metadata": {
    "ExecuteTime": {
     "end_time": "2023-09-27T16:25:24.888850Z",
     "start_time": "2023-09-27T16:25:24.883947Z"
    }
   },
   "outputs": [
    {
     "name": "stdout",
     "output_type": "stream",
     "text": [
      "3628800 2432902008176640000\n"
     ]
    }
   ],
   "source": [
    "from math import factorial as fac\n",
    "\n",
    "print(fac(10),fac(20))"
   ]
  },
  {
   "cell_type": "markdown",
   "metadata": {},
   "source": [
    "Using the factorial function, compute the finite sums over the first $9$, $10$, and $11$ terms, evaluated at $x=1.5$, $x=2.5$, and $x=1+i$ and compare with the result from the infinite sum. To save you typing, and to make the code more readable, you should assign the value of $x$ using an assignment like `x=1.5`."
   ]
  },
  {
   "cell_type": "code",
   "execution_count": 27,
   "metadata": {
    "ExecuteTime": {
     "end_time": "2023-09-27T16:25:25.794882Z",
     "start_time": "2023-09-27T16:25:25.785257Z"
    }
   },
   "outputs": [
    {
     "name": "stdout",
     "output_type": "stream",
     "text": [
      "4.48156476702009\n",
      "4.481670706612723\n",
      "4.481686597551619\n",
      "12.168602837456596\n",
      "12.179115120485767\n",
      "12.18174319124306\n",
      "(1.4686507936507935+2.2873015873015876j)\n",
      "(1.468694885361552+2.287345679012346j)\n",
      "(1.468694885361552+2.2873544973544977j)\n"
     ]
    }
   ],
   "source": [
    "values = [1.5,2.5,1+1j]\n",
    "\n",
    "for i in range(3):\n",
    "    x = values[i]\n",
    "    print(sum([((x)**k)/math.factorial(k) for k in range(9)]))\n",
    "    print(sum([((x)**k)/math.factorial(k) for k in range(10)]))\n",
    "    print(sum([((x)**k)/math.factorial(k) for k in range(11)]))"
   ]
  },
  {
   "cell_type": "code",
   "execution_count": null,
   "metadata": {
    "ExecuteTime": {
     "end_time": "2023-09-27T16:25:27.170680Z",
     "start_time": "2023-09-27T16:25:27.165301Z"
    }
   },
   "outputs": [],
   "source": []
  },
  {
   "cell_type": "code",
   "execution_count": null,
   "metadata": {
    "ExecuteTime": {
     "end_time": "2023-09-27T16:25:28.322856Z",
     "start_time": "2023-09-27T16:25:28.313908Z"
    }
   },
   "outputs": [],
   "source": []
  },
  {
   "cell_type": "markdown",
   "metadata": {},
   "source": [
    "Again, when done correctly, you would see a sequence of numbers providing better and better approximations to the exact value.\n",
    "    \n",
    "You also will by now have started to appreciate that using assignments makes your life easier because it reduces the amount of typing you need to do, and helps to write more compact code. Once we start discussing loops you will see that there is an even more convenient way to do long summations."
   ]
  },
  {
   "cell_type": "markdown",
   "metadata": {},
   "source": [
    "#### Q3.b) Compute the Riemann Zeta Function"
   ]
  },
  {
   "cell_type": "markdown",
   "metadata": {},
   "source": [
    "The [Riemann zeta function](http://en.wikipedia.org/wiki/Riemann_zeta_function) is given by the infinite series\n",
    "$$\\zeta(s)=\\sum_{n=1}^\\infty\\frac1{n^s}=\\frac1{1^s}+\\frac1{2^s}+\\frac1{3^s}+\\frac1{4^s}+\\ldots\\;.$$\n",
    "\n",
    "Using these expressions, compute the sum over the first 13 terms for $s=2$, $4$, and $6$ (i.e. truncate the infinite sum or product after six terms) and compare to the exact values\n",
    "$$\\zeta(2)=\\frac{\\pi^2}6\\;,\\;\\zeta(4)=\\frac{\\pi^4}{90}\\;,\\;\\zeta(6)=\\frac{\\pi^6}{945}\\;.$$"
   ]
  },
  {
   "cell_type": "code",
   "execution_count": 30,
   "metadata": {
    "ExecuteTime": {
     "end_time": "2023-09-27T16:27:28.028579Z",
     "start_time": "2023-09-27T16:27:28.020314Z"
    }
   },
   "outputs": [
    {
     "name": "stdout",
     "output_type": "stream",
     "text": [
      "1.5649766384209025\n",
      "1.0821531101479351\n",
      "1.017342411813338\n",
      "1.6449340668482264\n",
      "1.082323233711138\n",
      "1.017343061984449\n"
     ]
    }
   ],
   "source": [
    "values = [2,4,6]\n",
    "\n",
    "for i in range(3):\n",
    "    s = values[i]\n",
    "    print(sum([(1/(k**s)) for k in range(1,13)]))\n",
    "\n",
    "print(math.pi**2/6)\n",
    "print(math.pi**4/90)\n",
    "print(math.pi**6/945)\n"
   ]
  },
  {
   "cell_type": "code",
   "execution_count": null,
   "metadata": {
    "ExecuteTime": {
     "end_time": "2023-09-27T16:28:11.969098Z",
     "start_time": "2023-09-27T16:28:11.960485Z"
    },
    "scrolled": true
   },
   "outputs": [],
   "source": []
  },
  {
   "cell_type": "code",
   "execution_count": null,
   "metadata": {
    "ExecuteTime": {
     "end_time": "2023-09-27T16:28:52.382474Z",
     "start_time": "2023-09-27T16:28:52.372590Z"
    },
    "scrolled": false
   },
   "outputs": [],
   "source": []
  },
  {
   "cell_type": "markdown",
   "metadata": {},
   "source": [
    "You will correctly guess that for even values of $s$, $\\zeta(s)/\\pi^s$ evaluates to a simple fraction, and you might wonder what happens if $s=3$. Strangely enough, very little is known about the nature of $\\zeta(3)$, also known as [Apery's constant](https://en.wikipedia.org/wiki/Ap%C3%A9ry%27s_constant), only that it is irrational."
   ]
  },
  {
   "cell_type": "markdown",
   "metadata": {},
   "source": [
    "#### Q.3.c) Continued Fractions"
   ]
  },
  {
   "cell_type": "markdown",
   "metadata": {},
   "source": [
    "The golden ratio $\\rho=\\frac{1+\\sqrt5}2$ is given by\n",
    "$$\\rho=1+\\cfrac1{1+\\cfrac1{1+\\cfrac1{1+\\cfrac1{1+\\ldots}}}}\\;.$$\n",
    "To approximate $\\rho$, compute the partial continued fraction\n",
    "$$1+\\cfrac1{1+\\cfrac1{1+\\cfrac1{1+\\cfrac1{1+\\cfrac11}}}}$$\n",
    "and compare with the exact value."
   ]
  },
  {
   "cell_type": "code",
   "execution_count": 33,
   "metadata": {
    "ExecuteTime": {
     "end_time": "2023-09-27T16:34:50.362246Z",
     "start_time": "2023-09-27T16:34:50.354651Z"
    }
   },
   "outputs": [
    {
     "name": "stdout",
     "output_type": "stream",
     "text": [
      "1.5\n",
      "1.6666666666666665\n",
      "1.6\n",
      "1.625\n",
      "1.618033988749895\n"
     ]
    }
   ],
   "source": [
    "phi = (1+math.sqrt(5))/2\n",
    "\n",
    "initial = 1+1/1\n",
    "\n",
    "\n",
    "for i in range (4):\n",
    "    initial = 1+1/initial\n",
    "    print(initial)\n",
    "print(phi)\n"
   ]
  },
  {
   "cell_type": "markdown",
   "metadata": {},
   "source": [
    "**Advanced:** Now extend this calculation to estimate\n",
    "$$f(x)=x+\\cfrac1{x+\\cfrac1{x+\\cfrac1{x+\\cfrac1{x+\\ldots}}}}\\;.$$\n",
    "Can you guess what the exact result is for $x=2$?"
   ]
  },
  {
   "cell_type": "code",
   "execution_count": 35,
   "metadata": {
    "ExecuteTime": {
     "end_time": "2023-09-27T16:43:58.156385Z",
     "start_time": "2023-09-27T16:43:58.148554Z"
    }
   },
   "outputs": [
    {
     "name": "stdout",
     "output_type": "stream",
     "text": [
      "2.414213562373095\n",
      "2.414213562373095\n"
     ]
    }
   ],
   "source": [
    "x=2\n",
    "initial = x+1/1\n",
    "\n",
    "for i in range (50):\n",
    "    initial = x+1/initial\n",
    "print(initial)\n",
    "print(1+math.sqrt(2))"
   ]
  },
  {
   "cell_type": "markdown",
   "metadata": {},
   "source": [
    "### Exercise 4: Obtain a professional email address (needed for the assessment)!"
   ]
  },
  {
   "cell_type": "markdown",
   "metadata": {},
   "source": [
    "The final assignment for this week is to obtain a [professional](https://nethunt.com/blog/how-to-choose-professional-email-address) email address. Of course this becomes harder the less unique your name is (apologies to all the John Smiths in this world). You may wish to google \"free email with domain\" to get some ideas on how to obtain such an email address. Feel free to use middle names, but refrain from including numbers, they look tacky. As an example, choosing `doggy69@petlover.com` is presumably a bad idea. During the week 3 test, you will need the ability to send us email from this address."
   ]
  },
  {
   "cell_type": "markdown",
   "metadata": {},
   "source": [
    "**Please remember to submit your finished workbook to the QM Plus page!**"
   ]
  }
 ],
 "metadata": {
  "kernelspec": {
   "display_name": "Python 3 (ipykernel)",
   "language": "python",
   "name": "python3"
  },
  "language_info": {
   "codemirror_mode": {
    "name": "ipython",
    "version": 3
   },
   "file_extension": ".py",
   "mimetype": "text/x-python",
   "name": "python",
   "nbconvert_exporter": "python",
   "pygments_lexer": "ipython3",
   "version": "3.11.3"
  }
 },
 "nbformat": 4,
 "nbformat_minor": 2
}
